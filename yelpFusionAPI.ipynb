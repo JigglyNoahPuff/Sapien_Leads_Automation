{
  "nbformat": 4,
  "nbformat_minor": 0,
  "metadata": {
    "colab": {
      "name": "yelpFusionAPI.ipynb",
      "provenance": []
    },
    "kernelspec": {
      "name": "python3",
      "display_name": "Python 3"
    },
    "language_info": {
      "name": "python"
    }
  },
  "cells": [
    {
      "cell_type": "code",
      "metadata": {
        "id": "lbFPU4QEZopO"
      },
      "source": [
        "import requests as r\n",
        "import json"
      ],
      "execution_count": 1,
      "outputs": []
    },
    {
      "cell_type": "code",
      "metadata": {
        "id": "TTMWDiNrd0Ws"
      },
      "source": [
        ""
      ],
      "execution_count": null,
      "outputs": []
    },
    {
      "cell_type": "code",
      "metadata": {
        "id": "Szum__zrb0NW"
      },
      "source": [
        "dictionary = json.loads(response.text)"
      ],
      "execution_count": 8,
      "outputs": []
    },
    {
      "cell_type": "code",
      "metadata": {
        "colab": {
          "base_uri": "https://localhost:8080/"
        },
        "id": "ODHkglM3b61d",
        "outputId": "02f3f85e-9206-4513-bb80-7b8cac1fd2e7"
      },
      "source": [
        "#print(dictionary)\n",
        "idList = []\n",
        "for i in dictionary['businesses']:\n",
        "  # print(i, end='\\n\\n')\n",
        "  idList.append(i['id'])\n",
        "print(idList)\n"
      ],
      "execution_count": 19,
      "outputs": [
        {
          "output_type": "stream",
          "text": [
            "['VEckmVgFvfCqnlEvz5Ei8A', 'I9qz5eKO-o1NoQVGnPTDbA', 'u7y8Mq6moGSJERhYlHw_rg', 'YMpK-g7CR0o_2kXXC5edmw', 'GTyHbDETtRwl_i01WyMAoQ', 'tiMsNuBQzSyIn_uhZKEXww', 'zm8irIcON4lK_YyhK2Cipg', 'rhKGLZE_d5Vf6cFF3CpP2Q', 'm3_Ct-WyrcxIqJn0ZbSKyw', 'WAhUpbmIiga80evbTYHBGA', 'TFuAsXwftP_x1PX0eR_dKg', 'ip7csUt1SjFT_xxPqdrErg', 'bhhfqb_voqNT17E_FFCQ2A', 'z9ZtgFTUgzm4jsxzPTylJg', 'bL96bVt6w7NWoSZc_YjySA', 'zFYz82_Fs-okG0eoS2hp6g', '2KaUdJFLm92npsUSCzxM2w', '02kEeptzRVkCVYMyhB1Tig', 'Lz7cZi7ZYESGlrKaw9ImXQ', 'xm32BAimhzVgCj8SFgCWCg']\n"
          ],
          "name": "stdout"
        }
      ]
    },
    {
      "cell_type": "code",
      "metadata": {
        "colab": {
          "base_uri": "https://localhost:8080/"
        },
        "id": "s2XmfO5EcvBr",
        "outputId": "2dbf72fd-de8f-4bdd-abb5-c60bfd5fd17b"
      },
      "source": [
        "url = 'https://api.yelp.com/v3/businesses/' + 'VEckmVgFvfCqnlEvz5Ei8A'\n",
        "response = r.get(url, headers=header)\n",
        "response"
      ],
      "execution_count": 20,
      "outputs": [
        {
          "output_type": "execute_result",
          "data": {
            "text/plain": [
              "<Response [200]>"
            ]
          },
          "metadata": {
            "tags": []
          },
          "execution_count": 20
        }
      ]
    },
    {
      "cell_type": "code",
      "metadata": {
        "colab": {
          "base_uri": "https://localhost:8080/",
          "height": 213
        },
        "id": "VHB0eg0xdtVM",
        "outputId": "c3a01092-35bf-478e-b027-f521da833eb2"
      },
      "source": [
        "response.text"
      ],
      "execution_count": 21,
      "outputs": [
        {
          "output_type": "execute_result",
          "data": {
            "application/vnd.google.colaboratory.intrinsic+json": {
              "type": "string"
            },
            "text/plain": [
              "'{\"id\": \"VEckmVgFvfCqnlEvz5Ei8A\", \"alias\": \"casa-de-ochoa-rexburg\", \"name\": \"Casa De Ochoa\", \"image_url\": \"https://s3-media4.fl.yelpcdn.com/bphoto/omzw445dz6Fg9y1gnzBdhA/o.jpg\", \"is_claimed\": true, \"is_closed\": false, \"url\": \"https://www.yelp.com/biz/casa-de-ochoa-rexburg?adjust_creative=nEHnM1aCiROwLaH69FapRw&utm_campaign=yelp_api_v3&utm_medium=api_v3_business_lookup&utm_source=nEHnM1aCiROwLaH69FapRw\", \"phone\": \"+12083574250\", \"display_phone\": \"(208) 357-4250\", \"review_count\": 151, \"categories\": [{\"alias\": \"mexican\", \"title\": \"Mexican\"}], \"rating\": 4.0, \"location\": {\"address1\": \"383 S 2nd W\", \"address2\": \"Ste B\", \"address3\": \"\", \"city\": \"Rexburg\", \"zip_code\": \"83440\", \"country\": \"US\", \"state\": \"ID\", \"display_address\": [\"383 S 2nd W\", \"Ste B\", \"Rexburg, ID 83440\"], \"cross_streets\": \"\"}, \"coordinates\": {\"latitude\": 43.81808, \"longitude\": -111.78898}, \"photos\": [\"https://s3-media4.fl.yelpcdn.com/bphoto/omzw445dz6Fg9y1gnzBdhA/o.jpg\", \"https://s3-media3.fl.yelpcdn.com/bphoto/W7QwHwloddvldoZKbjvuSA/o.jpg\", \"https://s3-media4.fl.yelpcdn.com/bphoto/574HMETulzP0La_w8mF3QQ/o.jpg\"], \"price\": \"$\", \"hours\": [{\"open\": [{\"is_overnight\": false, \"start\": \"1030\", \"end\": \"2100\", \"day\": 0}, {\"is_overnight\": false, \"start\": \"1030\", \"end\": \"2100\", \"day\": 1}, {\"is_overnight\": false, \"start\": \"1030\", \"end\": \"2100\", \"day\": 2}, {\"is_overnight\": false, \"start\": \"1030\", \"end\": \"2100\", \"day\": 3}, {\"is_overnight\": false, \"start\": \"1030\", \"end\": \"2130\", \"day\": 4}, {\"is_overnight\": false, \"start\": \"1030\", \"end\": \"2100\", \"day\": 5}], \"hours_type\": \"REGULAR\", \"is_open_now\": false}], \"transactions\": []}'"
            ]
          },
          "metadata": {
            "tags": []
          },
          "execution_count": 21
        }
      ]
    }
  ]
}