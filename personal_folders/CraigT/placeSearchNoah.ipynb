{
  "nbformat": 4,
  "nbformat_minor": 0,
  "metadata": {
    "colab": {
      "name": "placeSearch.ipynb",
      "provenance": [],
      "collapsed_sections": []
    },
    "kernelspec": {
      "name": "python3710jvsc74a57bd00223bf73c27a165c1bdef25a7d70166593694aef082c7753b54f15db08e444d3",
      "display_name": "Python 3.7.10 64-bit ('ai': conda)"
    },
    "language_info": {
      "name": "python",
      "version": "3.7.10"
    }
  },
  "cells": [
    {
      "cell_type": "code",
      "metadata": {
        "id": "lbFPU4QEZopO"
      },
      "source": [
        "import requests as r\n",
        "import json"
      ],
      "execution_count": 1,
      "outputs": []
    },
    {
      "cell_type": "code",
      "metadata": {
        "colab": {
          "base_uri": "https://localhost:8080/"
        },
        "id": "1MyHkkabMWDB",
        "outputId": "7d5e0f64-32fa-4c2e-fec2-fb7ce0d4d19e"
      },
      "source": [
        "where = input('Where u want? ')"
      ],
      "execution_count": 2,
      "outputs": []
    },
    {
      "cell_type": "code",
      "metadata": {
        "colab": {
          "base_uri": "https://localhost:8080/",
          "height": 103
        },
        "id": "s2XmfO5EcvBr",
        "outputId": "5d9f6807-138b-4228-e005-c6396009020b"
      },
      "source": [
        "noahsSecretKey = 'hahayouwish'\n",
        "\n",
        "url = 'https://maps.googleapis.com/maps/api/place/textsearch/json'\n",
        "p = {'key':noahsSecretKey, 'location':'43.8231, -111.7924', 'radius':'16000', 'query':'soda'}\n",
        "\n",
        "response = r.get(url, params=p)\n",
        "response.text"
      ],
      "execution_count": 3,
      "outputs": [
        {
          "output_type": "execute_result",
          "data": {
            "text/plain": [
              "'{\\n   \"error_message\" : \"The provided API key is invalid.\",\\n   \"html_attributions\" : [],\\n   \"results\" : [],\\n   \"status\" : \"REQUEST_DENIED\"\\n}\\n'"
            ]
          },
          "metadata": {},
          "execution_count": 3
        }
      ]
    },
    {
      "cell_type": "code",
      "execution_count": null,
      "metadata": {},
      "outputs": [],
      "source": []
    }
  ]
}