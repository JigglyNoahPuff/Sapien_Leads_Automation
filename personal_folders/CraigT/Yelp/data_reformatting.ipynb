{
 "metadata": {
  "language_info": {
   "codemirror_mode": {
    "name": "ipython",
    "version": 3
   },
   "file_extension": ".py",
   "mimetype": "text/x-python",
   "name": "python",
   "nbconvert_exporter": "python",
   "pygments_lexer": "ipython3",
   "version": "3.7.10"
  },
  "orig_nbformat": 2,
  "kernelspec": {
   "name": "python3710jvsc74a57bd00223bf73c27a165c1bdef25a7d70166593694aef082c7753b54f15db08e444d3",
   "display_name": "Python 3.7.10 64-bit ('ai': conda)"
  }
 },
 "nbformat": 4,
 "nbformat_minor": 2,
 "cells": [
  {
   "cell_type": "code",
   "execution_count": 36,
   "metadata": {},
   "outputs": [],
   "source": [
    "import pandas as pd\n",
    "import os"
   ]
  },
  {
   "cell_type": "code",
   "execution_count": 37,
   "metadata": {},
   "outputs": [],
   "source": [
    "af_path = '/Users/tylercraig/Documents/School/DataScienceConsulting/Sapien_leadsautomation_sp21/data/raw/chiro_af.csv'\n",
    "sf_path = '/Users/tylercraig/Documents/School/DataScienceConsulting/Sapien_leadsautomation_sp21/data/raw/chiro_sf.csv'\n",
    "combined_path = '/Users/tylercraig/Documents/School/DataScienceConsulting/Sapien_leadsautomation_sp21/data/raw/combined.csv'"
   ]
  },
  {
   "cell_type": "code",
   "execution_count": 32,
   "metadata": {},
   "outputs": [
    {
     "output_type": "stream",
     "name": "stdout",
     "text": [
      "/Users/tylercraig/Documents/School/DataScienceConsulting/Sapien_leadsautomation_sp21/data/raw/chiro_af.csv\n"
     ]
    }
   ],
   "source": [
    "print(af_path)"
   ]
  },
  {
   "cell_type": "code",
   "execution_count": 38,
   "metadata": {},
   "outputs": [
    {
     "output_type": "execute_result",
     "data": {
      "text/plain": [
       "   Unnamed: 0 categories_alias categories_title                      id  \\\n",
       "0           0    chiropractors    Chiropractors  4mDnxk4oezRMlVUXo5MJ8A   \n",
       "1           1    chiropractors    Chiropractors  iwMe9XYxb5cP1QdJxSlSuA   \n",
       "2           2  massage_therapy  Massage Therapy  iwMe9XYxb5cP1QdJxSlSuA   \n",
       "3           3    chiropractors    Chiropractors  jXVU7lOuGYg3B374jIM6oA   \n",
       "4           4    chiropractors    Chiropractors  9M-crQNhIPEpLybIFutuVQ   \n",
       "\n",
       "                                               alias  \\\n",
       "0                  holmes-chiropractic-american-fork   \n",
       "1          utah-chiropractic-and-rehab-american-fork   \n",
       "2          utah-chiropractic-and-rehab-american-fork   \n",
       "3  jay-grant-american-fork-chiropractic-american-...   \n",
       "4                  gunn-chiropractic-american-fork-2   \n",
       "\n",
       "                                     name  \\\n",
       "0                     Holmes Chiropractic   \n",
       "1             Utah Chiropractic and Rehab   \n",
       "2             Utah Chiropractic and Rehab   \n",
       "3  Jay Grant - American Fork Chiropractic   \n",
       "4                       Gunn Chiropractic   \n",
       "\n",
       "                                           image_url  is_claimed  is_closed  \\\n",
       "0  https://s3-media2.fl.yelpcdn.com/bphoto/DAa4iV...        True      False   \n",
       "1  https://s3-media1.fl.yelpcdn.com/bphoto/iAmXwM...        True      False   \n",
       "2  https://s3-media1.fl.yelpcdn.com/bphoto/iAmXwM...        True      False   \n",
       "3  https://s3-media2.fl.yelpcdn.com/bphoto/PwndKk...        True      False   \n",
       "4  https://s3-media1.fl.yelpcdn.com/bphoto/AH4QQq...        True      False   \n",
       "\n",
       "                                                 url        phone  \\\n",
       "0  https://www.yelp.com/biz/holmes-chiropractic-a...  18016921027   \n",
       "1  https://www.yelp.com/biz/utah-chiropractic-and...  18016923231   \n",
       "2  https://www.yelp.com/biz/utah-chiropractic-and...  18016923231   \n",
       "3  https://www.yelp.com/biz/jay-grant-american-fo...  18017566868   \n",
       "4  https://www.yelp.com/biz/gunn-chiropractic-ame...  18014928188   \n",
       "\n",
       "    display_phone  review_count  rating  \\\n",
       "0  (801) 692-1027             9     5.0   \n",
       "1  (801) 692-3231             3     5.0   \n",
       "2  (801) 692-3231             3     5.0   \n",
       "3  (801) 756-6868             4     5.0   \n",
       "4  (801) 492-8188             4     5.0   \n",
       "\n",
       "                                            location  \\\n",
       "0  {'address1': '477 W 30th N', 'address2': None,...   \n",
       "1  {'address1': '321 E 300th N', 'address2': 'Ste...   \n",
       "2  {'address1': '321 E 300th N', 'address2': 'Ste...   \n",
       "3  {'address1': '201 W Main St', 'address2': '', ...   \n",
       "4  {'address1': '340 W Main St', 'address2': None...   \n",
       "\n",
       "                                         coordinates  \\\n",
       "0     {'latitude': 40.3774, 'longitude': -111.81147}   \n",
       "1   {'latitude': 40.38335, 'longitude': -111.789825}   \n",
       "2   {'latitude': 40.38335, 'longitude': -111.789825}   \n",
       "3  {'latitude': 40.3765824, 'longitude': -111.804...   \n",
       "4  {'latitude': 40.3770017, 'longitude': -111.807...   \n",
       "\n",
       "                                              photos  \\\n",
       "0  ['https://s3-media2.fl.yelpcdn.com/bphoto/DAa4...   \n",
       "1  ['https://s3-media1.fl.yelpcdn.com/bphoto/iAmX...   \n",
       "2  ['https://s3-media1.fl.yelpcdn.com/bphoto/iAmX...   \n",
       "3  ['https://s3-media2.fl.yelpcdn.com/bphoto/Pwnd...   \n",
       "4  ['https://s3-media1.fl.yelpcdn.com/bphoto/AH4Q...   \n",
       "\n",
       "                                               hours  \n",
       "0  [{'open': [{'is_overnight': False, 'start': '0...  \n",
       "1  [{'open': [{'is_overnight': False, 'start': '0...  \n",
       "2  [{'open': [{'is_overnight': False, 'start': '0...  \n",
       "3  [{'open': [{'is_overnight': False, 'start': '1...  \n",
       "4  [{'open': [{'is_overnight': False, 'start': '0...  "
      ],
      "text/html": "<div>\n<style scoped>\n    .dataframe tbody tr th:only-of-type {\n        vertical-align: middle;\n    }\n\n    .dataframe tbody tr th {\n        vertical-align: top;\n    }\n\n    .dataframe thead th {\n        text-align: right;\n    }\n</style>\n<table border=\"1\" class=\"dataframe\">\n  <thead>\n    <tr style=\"text-align: right;\">\n      <th></th>\n      <th>Unnamed: 0</th>\n      <th>categories_alias</th>\n      <th>categories_title</th>\n      <th>id</th>\n      <th>alias</th>\n      <th>name</th>\n      <th>image_url</th>\n      <th>is_claimed</th>\n      <th>is_closed</th>\n      <th>url</th>\n      <th>phone</th>\n      <th>display_phone</th>\n      <th>review_count</th>\n      <th>rating</th>\n      <th>location</th>\n      <th>coordinates</th>\n      <th>photos</th>\n      <th>hours</th>\n    </tr>\n  </thead>\n  <tbody>\n    <tr>\n      <th>0</th>\n      <td>0</td>\n      <td>chiropractors</td>\n      <td>Chiropractors</td>\n      <td>4mDnxk4oezRMlVUXo5MJ8A</td>\n      <td>holmes-chiropractic-american-fork</td>\n      <td>Holmes Chiropractic</td>\n      <td>https://s3-media2.fl.yelpcdn.com/bphoto/DAa4iV...</td>\n      <td>True</td>\n      <td>False</td>\n      <td>https://www.yelp.com/biz/holmes-chiropractic-a...</td>\n      <td>18016921027</td>\n      <td>(801) 692-1027</td>\n      <td>9</td>\n      <td>5.0</td>\n      <td>{'address1': '477 W 30th N', 'address2': None,...</td>\n      <td>{'latitude': 40.3774, 'longitude': -111.81147}</td>\n      <td>['https://s3-media2.fl.yelpcdn.com/bphoto/DAa4...</td>\n      <td>[{'open': [{'is_overnight': False, 'start': '0...</td>\n    </tr>\n    <tr>\n      <th>1</th>\n      <td>1</td>\n      <td>chiropractors</td>\n      <td>Chiropractors</td>\n      <td>iwMe9XYxb5cP1QdJxSlSuA</td>\n      <td>utah-chiropractic-and-rehab-american-fork</td>\n      <td>Utah Chiropractic and Rehab</td>\n      <td>https://s3-media1.fl.yelpcdn.com/bphoto/iAmXwM...</td>\n      <td>True</td>\n      <td>False</td>\n      <td>https://www.yelp.com/biz/utah-chiropractic-and...</td>\n      <td>18016923231</td>\n      <td>(801) 692-3231</td>\n      <td>3</td>\n      <td>5.0</td>\n      <td>{'address1': '321 E 300th N', 'address2': 'Ste...</td>\n      <td>{'latitude': 40.38335, 'longitude': -111.789825}</td>\n      <td>['https://s3-media1.fl.yelpcdn.com/bphoto/iAmX...</td>\n      <td>[{'open': [{'is_overnight': False, 'start': '0...</td>\n    </tr>\n    <tr>\n      <th>2</th>\n      <td>2</td>\n      <td>massage_therapy</td>\n      <td>Massage Therapy</td>\n      <td>iwMe9XYxb5cP1QdJxSlSuA</td>\n      <td>utah-chiropractic-and-rehab-american-fork</td>\n      <td>Utah Chiropractic and Rehab</td>\n      <td>https://s3-media1.fl.yelpcdn.com/bphoto/iAmXwM...</td>\n      <td>True</td>\n      <td>False</td>\n      <td>https://www.yelp.com/biz/utah-chiropractic-and...</td>\n      <td>18016923231</td>\n      <td>(801) 692-3231</td>\n      <td>3</td>\n      <td>5.0</td>\n      <td>{'address1': '321 E 300th N', 'address2': 'Ste...</td>\n      <td>{'latitude': 40.38335, 'longitude': -111.789825}</td>\n      <td>['https://s3-media1.fl.yelpcdn.com/bphoto/iAmX...</td>\n      <td>[{'open': [{'is_overnight': False, 'start': '0...</td>\n    </tr>\n    <tr>\n      <th>3</th>\n      <td>3</td>\n      <td>chiropractors</td>\n      <td>Chiropractors</td>\n      <td>jXVU7lOuGYg3B374jIM6oA</td>\n      <td>jay-grant-american-fork-chiropractic-american-...</td>\n      <td>Jay Grant - American Fork Chiropractic</td>\n      <td>https://s3-media2.fl.yelpcdn.com/bphoto/PwndKk...</td>\n      <td>True</td>\n      <td>False</td>\n      <td>https://www.yelp.com/biz/jay-grant-american-fo...</td>\n      <td>18017566868</td>\n      <td>(801) 756-6868</td>\n      <td>4</td>\n      <td>5.0</td>\n      <td>{'address1': '201 W Main St', 'address2': '', ...</td>\n      <td>{'latitude': 40.3765824, 'longitude': -111.804...</td>\n      <td>['https://s3-media2.fl.yelpcdn.com/bphoto/Pwnd...</td>\n      <td>[{'open': [{'is_overnight': False, 'start': '1...</td>\n    </tr>\n    <tr>\n      <th>4</th>\n      <td>4</td>\n      <td>chiropractors</td>\n      <td>Chiropractors</td>\n      <td>9M-crQNhIPEpLybIFutuVQ</td>\n      <td>gunn-chiropractic-american-fork-2</td>\n      <td>Gunn Chiropractic</td>\n      <td>https://s3-media1.fl.yelpcdn.com/bphoto/AH4QQq...</td>\n      <td>True</td>\n      <td>False</td>\n      <td>https://www.yelp.com/biz/gunn-chiropractic-ame...</td>\n      <td>18014928188</td>\n      <td>(801) 492-8188</td>\n      <td>4</td>\n      <td>5.0</td>\n      <td>{'address1': '340 W Main St', 'address2': None...</td>\n      <td>{'latitude': 40.3770017, 'longitude': -111.807...</td>\n      <td>['https://s3-media1.fl.yelpcdn.com/bphoto/AH4Q...</td>\n      <td>[{'open': [{'is_overnight': False, 'start': '0...</td>\n    </tr>\n  </tbody>\n</table>\n</div>"
     },
     "metadata": {},
     "execution_count": 38
    }
   ],
   "source": [
    "american_df = pd.read_csv(af_path)\n",
    "american_df.head()"
   ]
  },
  {
   "cell_type": "code",
   "execution_count": null,
   "metadata": {},
   "outputs": [],
   "source": [
    "spanish_df = pd.read_csv(sf_path)\n",
    "dfs = [american_df, spanish_df]\n",
    "combined_df = pd.concat(dfs, sort=False)\n",
    "combined_df.to_csv(combined_path)"
   ]
  },
  {
   "cell_type": "code",
   "execution_count": 30,
   "metadata": {},
   "outputs": [],
   "source": [
    "combined_df = pd.read_csv(combined_path)"
   ]
  },
  {
   "cell_type": "code",
   "execution_count": 33,
   "metadata": {},
   "outputs": [
    {
     "output_type": "execute_result",
     "data": {
      "text/plain": [
       "[Int64Index([ 0,  1,  2,  3,  4,  5,  6,  7,  8,  9, 10, 11, 12, 13, 14, 15, 16,\n",
       "             17, 18, 19, 20, 21, 22, 23, 24, 25, 26, 27, 28, 29, 30, 31, 32, 33,\n",
       "              0,  1,  2,  3,  4,  5,  6,  7,  8,  9, 10, 11, 12, 13, 14, 15, 16,\n",
       "             17, 18, 19, 20, 21, 22, 23, 24, 25, 26, 27, 28, 29, 30, 31, 32, 33,\n",
       "             34, 35, 36, 37, 38, 39],\n",
       "            dtype='int64'),\n",
       " Index(['Unnamed: 0', 'categories_title', 'id', 'alias', 'name', 'image_url',\n",
       "        'is_claimed', 'is_closed', 'url', 'phone', 'display_phone',\n",
       "        'review_count', 'rating', 'location', 'coordinates', 'photos', 'hours'],\n",
       "       dtype='object')]"
      ]
     },
     "metadata": {},
     "execution_count": 33
    }
   ],
   "source": [
    "combined_df.axes"
   ]
  },
  {
   "cell_type": "code",
   "execution_count": 35,
   "metadata": {},
   "outputs": [
    {
     "output_type": "execute_result",
     "data": {
      "text/plain": [
       "   Unnamed: 0 categories_title                      id  \\\n",
       "0           0    Chiropractors  4mDnxk4oezRMlVUXo5MJ8A   \n",
       "1           1    Chiropractors  iwMe9XYxb5cP1QdJxSlSuA   \n",
       "2           2  Massage Therapy  iwMe9XYxb5cP1QdJxSlSuA   \n",
       "3           3    Chiropractors  jXVU7lOuGYg3B374jIM6oA   \n",
       "4           4    Chiropractors  9M-crQNhIPEpLybIFutuVQ   \n",
       "\n",
       "                                               alias  \\\n",
       "0                  holmes-chiropractic-american-fork   \n",
       "1          utah-chiropractic-and-rehab-american-fork   \n",
       "2          utah-chiropractic-and-rehab-american-fork   \n",
       "3  jay-grant-american-fork-chiropractic-american-...   \n",
       "4                  gunn-chiropractic-american-fork-2   \n",
       "\n",
       "                                     name  \\\n",
       "0                     Holmes Chiropractic   \n",
       "1             Utah Chiropractic and Rehab   \n",
       "2             Utah Chiropractic and Rehab   \n",
       "3  Jay Grant - American Fork Chiropractic   \n",
       "4                       Gunn Chiropractic   \n",
       "\n",
       "                                           image_url  is_claimed  is_closed  \\\n",
       "0  https://s3-media2.fl.yelpcdn.com/bphoto/DAa4iV...        True      False   \n",
       "1  https://s3-media1.fl.yelpcdn.com/bphoto/iAmXwM...        True      False   \n",
       "2  https://s3-media1.fl.yelpcdn.com/bphoto/iAmXwM...        True      False   \n",
       "3  https://s3-media2.fl.yelpcdn.com/bphoto/PwndKk...        True      False   \n",
       "4  https://s3-media1.fl.yelpcdn.com/bphoto/AH4QQq...        True      False   \n",
       "\n",
       "                                                 url        phone  \\\n",
       "0  https://www.yelp.com/biz/holmes-chiropractic-a...  18016921027   \n",
       "1  https://www.yelp.com/biz/utah-chiropractic-and...  18016923231   \n",
       "2  https://www.yelp.com/biz/utah-chiropractic-and...  18016923231   \n",
       "3  https://www.yelp.com/biz/jay-grant-american-fo...  18017566868   \n",
       "4  https://www.yelp.com/biz/gunn-chiropractic-ame...  18014928188   \n",
       "\n",
       "    display_phone  review_count  rating  \\\n",
       "0  (801) 692-1027             9     5.0   \n",
       "1  (801) 692-3231             3     5.0   \n",
       "2  (801) 692-3231             3     5.0   \n",
       "3  (801) 756-6868             4     5.0   \n",
       "4  (801) 492-8188             4     5.0   \n",
       "\n",
       "                                            location  \\\n",
       "0  {'address1': '477 W 30th N', 'address2': None,...   \n",
       "1  {'address1': '321 E 300th N', 'address2': 'Ste...   \n",
       "2  {'address1': '321 E 300th N', 'address2': 'Ste...   \n",
       "3  {'address1': '201 W Main St', 'address2': '', ...   \n",
       "4  {'address1': '340 W Main St', 'address2': None...   \n",
       "\n",
       "                                         coordinates  \\\n",
       "0     {'latitude': 40.3774, 'longitude': -111.81147}   \n",
       "1   {'latitude': 40.38335, 'longitude': -111.789825}   \n",
       "2   {'latitude': 40.38335, 'longitude': -111.789825}   \n",
       "3  {'latitude': 40.3765824, 'longitude': -111.804...   \n",
       "4  {'latitude': 40.3770017, 'longitude': -111.807...   \n",
       "\n",
       "                                              photos  \\\n",
       "0  ['https://s3-media2.fl.yelpcdn.com/bphoto/DAa4...   \n",
       "1  ['https://s3-media1.fl.yelpcdn.com/bphoto/iAmX...   \n",
       "2  ['https://s3-media1.fl.yelpcdn.com/bphoto/iAmX...   \n",
       "3  ['https://s3-media2.fl.yelpcdn.com/bphoto/Pwnd...   \n",
       "4  ['https://s3-media1.fl.yelpcdn.com/bphoto/AH4Q...   \n",
       "\n",
       "                                               hours  \n",
       "0  [{'open': [{'is_overnight': False, 'start': '0...  \n",
       "1  [{'open': [{'is_overnight': False, 'start': '0...  \n",
       "2  [{'open': [{'is_overnight': False, 'start': '0...  \n",
       "3  [{'open': [{'is_overnight': False, 'start': '1...  \n",
       "4  [{'open': [{'is_overnight': False, 'start': '0...  "
      ],
      "text/html": "<div>\n<style scoped>\n    .dataframe tbody tr th:only-of-type {\n        vertical-align: middle;\n    }\n\n    .dataframe tbody tr th {\n        vertical-align: top;\n    }\n\n    .dataframe thead th {\n        text-align: right;\n    }\n</style>\n<table border=\"1\" class=\"dataframe\">\n  <thead>\n    <tr style=\"text-align: right;\">\n      <th></th>\n      <th>Unnamed: 0</th>\n      <th>categories_title</th>\n      <th>id</th>\n      <th>alias</th>\n      <th>name</th>\n      <th>image_url</th>\n      <th>is_claimed</th>\n      <th>is_closed</th>\n      <th>url</th>\n      <th>phone</th>\n      <th>display_phone</th>\n      <th>review_count</th>\n      <th>rating</th>\n      <th>location</th>\n      <th>coordinates</th>\n      <th>photos</th>\n      <th>hours</th>\n    </tr>\n  </thead>\n  <tbody>\n    <tr>\n      <th>0</th>\n      <td>0</td>\n      <td>Chiropractors</td>\n      <td>4mDnxk4oezRMlVUXo5MJ8A</td>\n      <td>holmes-chiropractic-american-fork</td>\n      <td>Holmes Chiropractic</td>\n      <td>https://s3-media2.fl.yelpcdn.com/bphoto/DAa4iV...</td>\n      <td>True</td>\n      <td>False</td>\n      <td>https://www.yelp.com/biz/holmes-chiropractic-a...</td>\n      <td>18016921027</td>\n      <td>(801) 692-1027</td>\n      <td>9</td>\n      <td>5.0</td>\n      <td>{'address1': '477 W 30th N', 'address2': None,...</td>\n      <td>{'latitude': 40.3774, 'longitude': -111.81147}</td>\n      <td>['https://s3-media2.fl.yelpcdn.com/bphoto/DAa4...</td>\n      <td>[{'open': [{'is_overnight': False, 'start': '0...</td>\n    </tr>\n    <tr>\n      <th>1</th>\n      <td>1</td>\n      <td>Chiropractors</td>\n      <td>iwMe9XYxb5cP1QdJxSlSuA</td>\n      <td>utah-chiropractic-and-rehab-american-fork</td>\n      <td>Utah Chiropractic and Rehab</td>\n      <td>https://s3-media1.fl.yelpcdn.com/bphoto/iAmXwM...</td>\n      <td>True</td>\n      <td>False</td>\n      <td>https://www.yelp.com/biz/utah-chiropractic-and...</td>\n      <td>18016923231</td>\n      <td>(801) 692-3231</td>\n      <td>3</td>\n      <td>5.0</td>\n      <td>{'address1': '321 E 300th N', 'address2': 'Ste...</td>\n      <td>{'latitude': 40.38335, 'longitude': -111.789825}</td>\n      <td>['https://s3-media1.fl.yelpcdn.com/bphoto/iAmX...</td>\n      <td>[{'open': [{'is_overnight': False, 'start': '0...</td>\n    </tr>\n    <tr>\n      <th>2</th>\n      <td>2</td>\n      <td>Massage Therapy</td>\n      <td>iwMe9XYxb5cP1QdJxSlSuA</td>\n      <td>utah-chiropractic-and-rehab-american-fork</td>\n      <td>Utah Chiropractic and Rehab</td>\n      <td>https://s3-media1.fl.yelpcdn.com/bphoto/iAmXwM...</td>\n      <td>True</td>\n      <td>False</td>\n      <td>https://www.yelp.com/biz/utah-chiropractic-and...</td>\n      <td>18016923231</td>\n      <td>(801) 692-3231</td>\n      <td>3</td>\n      <td>5.0</td>\n      <td>{'address1': '321 E 300th N', 'address2': 'Ste...</td>\n      <td>{'latitude': 40.38335, 'longitude': -111.789825}</td>\n      <td>['https://s3-media1.fl.yelpcdn.com/bphoto/iAmX...</td>\n      <td>[{'open': [{'is_overnight': False, 'start': '0...</td>\n    </tr>\n    <tr>\n      <th>3</th>\n      <td>3</td>\n      <td>Chiropractors</td>\n      <td>jXVU7lOuGYg3B374jIM6oA</td>\n      <td>jay-grant-american-fork-chiropractic-american-...</td>\n      <td>Jay Grant - American Fork Chiropractic</td>\n      <td>https://s3-media2.fl.yelpcdn.com/bphoto/PwndKk...</td>\n      <td>True</td>\n      <td>False</td>\n      <td>https://www.yelp.com/biz/jay-grant-american-fo...</td>\n      <td>18017566868</td>\n      <td>(801) 756-6868</td>\n      <td>4</td>\n      <td>5.0</td>\n      <td>{'address1': '201 W Main St', 'address2': '', ...</td>\n      <td>{'latitude': 40.3765824, 'longitude': -111.804...</td>\n      <td>['https://s3-media2.fl.yelpcdn.com/bphoto/Pwnd...</td>\n      <td>[{'open': [{'is_overnight': False, 'start': '1...</td>\n    </tr>\n    <tr>\n      <th>4</th>\n      <td>4</td>\n      <td>Chiropractors</td>\n      <td>9M-crQNhIPEpLybIFutuVQ</td>\n      <td>gunn-chiropractic-american-fork-2</td>\n      <td>Gunn Chiropractic</td>\n      <td>https://s3-media1.fl.yelpcdn.com/bphoto/AH4QQq...</td>\n      <td>True</td>\n      <td>False</td>\n      <td>https://www.yelp.com/biz/gunn-chiropractic-ame...</td>\n      <td>18014928188</td>\n      <td>(801) 492-8188</td>\n      <td>4</td>\n      <td>5.0</td>\n      <td>{'address1': '340 W Main St', 'address2': None...</td>\n      <td>{'latitude': 40.3770017, 'longitude': -111.807...</td>\n      <td>['https://s3-media1.fl.yelpcdn.com/bphoto/AH4Q...</td>\n      <td>[{'open': [{'is_overnight': False, 'start': '0...</td>\n    </tr>\n  </tbody>\n</table>\n</div>"
     },
     "metadata": {},
     "execution_count": 35
    }
   ],
   "source": [
    "american_df.head()"
   ]
  },
  {
   "cell_type": "code",
   "execution_count": null,
   "metadata": {},
   "outputs": [],
   "source": []
  }
 ]
}