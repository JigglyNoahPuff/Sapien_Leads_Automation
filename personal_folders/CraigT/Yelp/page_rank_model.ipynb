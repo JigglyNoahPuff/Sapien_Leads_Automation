{
 "metadata": {
  "language_info": {
   "codemirror_mode": {
    "name": "ipython",
    "version": 3
   },
   "file_extension": ".py",
   "mimetype": "text/x-python",
   "name": "python",
   "nbconvert_exporter": "python",
   "pygments_lexer": "ipython3",
   "version": "3.7.10"
  },
  "orig_nbformat": 2,
  "kernelspec": {
   "name": "python3710jvsc74a57bd00223bf73c27a165c1bdef25a7d70166593694aef082c7753b54f15db08e444d3",
   "display_name": "Python 3.7.10 64-bit ('ai': conda)"
  }
 },
 "nbformat": 4,
 "nbformat_minor": 2,
 "cells": [
  {
   "cell_type": "code",
   "execution_count": 3,
   "metadata": {},
   "outputs": [],
   "source": [
    "import sklearn as sk\n",
    "import pandas as pd"
   ]
  },
  {
   "cell_type": "code",
   "execution_count": null,
   "metadata": {},
   "outputs": [],
   "source": [
    "# features for the model\n",
    "# 1) categories_alias\n",
    "# 2) categories_title\n",
    "# 3) is_claimed\n",
    "# 4) review_count\n",
    "# 5) rating\n",
    "# 6) amount of photos\n"
   ]
  }
 ]
}